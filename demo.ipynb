{
 "cells": [
  {
   "cell_type": "code",
   "execution_count": 1,
   "id": "9d10e638-15bd-42b4-a82d-ae23935535dc",
   "metadata": {},
   "outputs": [
    {
     "name": "stdout",
     "output_type": "stream",
     "text": [
      "seed = 3838\n"
     ]
    }
   ],
   "source": [
    "%matplotlib inline\n",
    "import matplotlib\n",
    "import matplotlib.pyplot as plt\n",
    "from matplotlib.ticker import FormatStrFormatter\n",
    "import scienceplots as scp\n",
    "\n",
    "import numpy as np\n",
    "import torch\n",
    "\n",
    "matplotlib.rcParams['figure.figsize'] = (20, 6)\n",
    "\n",
    "from main import main, parse_args\n",
    "from utils.plotting import plot_change_responses, plot_omission_responses, plot_sequence_response\n",
    "from utils.analysis import process_outputs, get_change_responses, get_omission_responses\n",
    "\n",
    "import os\n",
    "\n",
    "SCRATCH = \"./datasets\"\n",
    "\n",
    "ACTION = True\n",
    "\n",
    "seed = np.random.randint(1001, 9999)\n",
    "print(f\"seed = {seed}\")"
   ]
  },
  {
   "cell_type": "code",
   "execution_count": null,
   "id": "dc709a10",
   "metadata": {},
   "outputs": [],
   "source": [
    "args = parse_args()\n",
    "\n",
    "if not ACTION:\n",
    "    args.perception_only = True\n",
    "    args.lambda_energy = 0.5\n",
    "    args.lambda_temporal = 1.0\n",
    "    args.lambda_reward = 0.0\n",
    "else:\n",
    "    args.perception_only = False\n",
    "    args.lambda_reward = 0.5\n",
    "    args.lambda_temporal = 1.0\n",
    "    args.lambda_energy = 10.0\n",
    "\n",
    "args.seed = seed\n",
    "args.progress_mode = 'epoch'\n",
    "args.num_epochs = 250\n",
    "args.train_path = os.path.join(SCRATCH, \"test\")\n",
    "args.test_path = os.path.join(SCRATCH, \"train\")\n",
    "\n",
    "args.batch_size = 32\n",
    "\n",
    "model, data, output = main(args)\n",
    "Y_train, Y_test, Y_train_om, train_ts, test_ts, train_om_ts, train_oms, test_oms = data.values()\n",
    "train_responses, train_responses_om, test_responses, test_om_indcs, train_om_indcs = output.values()"
   ]
  },
  {
   "cell_type": "code",
   "execution_count": null,
   "id": "89dc303c-8cba-4d46-8ca0-36f471468342",
   "metadata": {},
   "outputs": [],
   "source": [
    "sidx = 11\n",
    "\n",
    "fam_imgs_fig = plt.figure(figsize=(Y_train.shape[1] * 10, 10))\n",
    "\n",
    "plt.subplot(3, 1, 1)\n",
    "plt.imshow(torch.cat(list(Y_train[sidx, 2:37].reshape(-1, args.image_dim, args.image_dim)), dim=1).detach().cpu().numpy(), 'gray')\n",
    "plt.axis(\"off\")\n",
    "#plt.title(\"True\")\n",
    "\n",
    "#plt.figure(figsize=(Y_train.shape[1] * 10, 4))\n",
    "plt.subplot(3, 1, 2)\n",
    "plt.imshow(torch.cat(list(train_responses['I_hat'][sidx, 2:37].reshape(-1,  args.image_dim,  args.image_dim)), dim=1).detach().cpu().numpy(), 'gray')\n",
    "plt.axis(\"off\")\n",
    "#plt.title(\"Reconstructed\")\n",
    "\n",
    "train_predictions = model.reconstruction(train_responses['mu_p'][sidx])\n",
    "plt.subplot(3, 1, 3)\n",
    "#plt.figure(figsize=(Y_test.shape[1] * 10, 4))\n",
    "plt.imshow(torch.cat(list(train_predictions[2:37].reshape(-1,  args.image_dim,  args.image_dim)), dim=1).detach().cpu().numpy(), 'gray')\n",
    "plt.axis(\"off\")\n",
    "#plt.title(\"Predicted\")"
   ]
  },
  {
   "cell_type": "code",
   "execution_count": null,
   "id": "e58768d9-2208-4062-bc5a-bf47f609b4b4",
   "metadata": {},
   "outputs": [],
   "source": [
    "sidx = test_om_indcs[5]\n",
    "\n",
    "nov_imgs_fig = plt.figure(figsize=(Y_train.shape[1] * 10, 10))\n",
    "\n",
    "plt.subplot(3, 1, 1)\n",
    "plt.imshow(torch.cat(list(Y_test[sidx, 2:37].reshape(-1, args.image_dim, args.image_dim)), dim=1).detach().cpu().numpy(), 'gray')\n",
    "plt.axis(\"off\")\n",
    "#plt.title(\"True\")\n",
    "\n",
    "#plt.figure(figsize=(Y_train.shape[1] * 10, 4)) \n",
    "plt.subplot(3, 1, 2)\n",
    "plt.imshow(torch.cat(list(test_responses['I_hat'][sidx, 2:37].reshape(-1, args.image_dim, args.image_dim)), dim=1).detach().cpu().numpy(), 'gray')\n",
    "plt.axis(\"off\")\n",
    "#plt.title(\"Reconstructed\")\n",
    "\n",
    "test_predictions = model.reconstruction(test_responses['mu_p'][sidx])\n",
    "plt.subplot(3, 1, 3)\n",
    "#plt.figure(figsize=(Y_test.shape[1] * 10, 4))\n",
    "plt.imshow(torch.cat(list(test_predictions[2:37].reshape(-1, args.image_dim, args.image_dim)), dim=1).detach().cpu().numpy(), 'gray')\n",
    "plt.axis(\"off\")"
   ]
  },
  {
   "cell_type": "code",
   "execution_count": null,
   "id": "6a11dbb2-8a4d-4c15-bb85-05ba140f3cd5",
   "metadata": {},
   "outputs": [],
   "source": [
    "z_train, z_test = train_responses['z'], test_responses['z']\n",
    "sigmap_train, sigmap_test = train_responses['sigma_p'], test_responses['sigma_p']\n",
    "sigmaq_train, sigmaq_test = train_responses['sigma_q'], test_responses['sigma_q']\n",
    "mup_train, mup_test = train_responses['mu_p'], test_responses['mu_p']\n",
    "theta_train, theta_test = train_responses['theta'], test_responses['theta']\n",
    "h_train, h_test = train_responses['h'], test_responses['h']\n",
    "terror_train, terror_test = (train_responses['mu_p'] - train_responses['z'])**2, (test_responses['mu_p'] - test_responses['z'])**2\n",
    "\n",
    "if not model.perception_only:\n",
    "    value_train, value_test = train_responses['lick_value'], test_responses['lick_value']\n",
    "    licks_train, licks_test = train_responses['action'], test_responses['action']"
   ]
  },
  {
   "cell_type": "code",
   "execution_count": null,
   "id": "10c73619-8195-4b88-afb6-83c2e27081a4",
   "metadata": {},
   "outputs": [],
   "source": [
    "# example sequences (familiar)\n",
    "plot_sequence_response(train_responses, train_ts, seq_idx=7, perception_only=model.perception_only)"
   ]
  },
  {
   "cell_type": "code",
   "execution_count": null,
   "id": "179633a5-4d7e-44c2-816f-cc9ff5e56b00",
   "metadata": {},
   "outputs": [],
   "source": [
    "# example sequences (novel)\n",
    "plot_sequence_response(test_responses, test_ts, seq_idx=test_om_indcs[7], perception_only=model.perception_only)"
   ]
  },
  {
   "cell_type": "code",
   "execution_count": null,
   "id": "a51da12c",
   "metadata": {},
   "outputs": [],
   "source": [
    "# get omission and change responses\n",
    "change_responses, omission_responses = process_outputs(args, model, data, output)"
   ]
  },
  {
   "cell_type": "code",
   "execution_count": null,
   "id": "94a66aa8-88e3-4e3d-9409-27bf798c8c56",
   "metadata": {
    "tags": []
   },
   "outputs": [],
   "source": [
    "##### plot responses around image change\n",
    "\n",
    "with plt.style.context(['nature', 'notebook']):\n",
    "\n",
    "    fig3 = plt.figure(figsize=(25, 20))\n",
    "    plt.tight_layout(pad=10, h_pad=5)\n",
    "\n",
    "    for i, pop in enumerate(change_responses['familiar'].keys()):\n",
    "        ax = plt.subplot(4, 3, i+1)\n",
    "        plot_change_responses(args, ax, change_responses['familiar'][pop], \"Familiar\", \"darkorange\")\n",
    "        plot_change_responses(args, ax, change_responses['novel'][pop], \"Novel\", \"darkblue\")\n",
    "        ax.set_title(f\"{pop}\")\n",
    "        ax.legend()"
   ]
  },
  {
   "cell_type": "code",
   "execution_count": null,
   "id": "c3b98806-549a-41b4-bab7-4c550db6c6c3",
   "metadata": {},
   "outputs": [],
   "source": [
    "##### plot responses around omissions\n",
    "\n",
    "with plt.style.context(['nature', 'notebook']):\n",
    "\n",
    "    fig3 = plt.figure(figsize=(25, 20))\n",
    "    plt.tight_layout(pad=10, h_pad=5)\n",
    "\n",
    "    for i, pop in enumerate(omission_responses['familiar'].keys()):\n",
    "        ax = plt.subplot(4, 3, i+1)\n",
    "        plot_omission_responses(args, ax, omission_responses['novel'][pop], \"Novel\", trace_clr=\"darkblue\", image_clr=\"magenta\", sem=True)\n",
    "        plot_omission_responses(args, ax, omission_responses['familiar'][pop], \"Familiar\", trace_clr=\"darkorange\", image_clr=\"magenta\", sem=True)\n",
    "        _ = ax.set_title(f\"{pop}\")"
   ]
  },
  {
   "cell_type": "code",
   "execution_count": null,
   "id": "0387fde8",
   "metadata": {},
   "outputs": [],
   "source": [
    "# save\n",
    "\"\"\"\n",
    "save_dir = \"./results/perception_only\"\n",
    "torch.save({\n",
    "    \"args\": vars(args),\n",
    "    \"model\": model.state_dict(),\n",
    "    \"change_responses\": change_responses,\n",
    "    \"omission_responses\": omission_responses\n",
    "}, os.path.join(save_dir, f\"perception_only_{seed}\"))\n",
    "\"\"\""
   ]
  },
  {
   "cell_type": "code",
   "execution_count": null,
   "id": "f0cc7767-0aa9-4762-ae52-5f26f00f429c",
   "metadata": {},
   "outputs": [],
   "source": [
    "sq_avg = True\n",
    "\n",
    "test_no_om_indcs = np.where(np.array(test_oms) <= 0)[0]\n",
    "\n",
    "sq_f, sq_t = 0, 0\n",
    "start_f = train_ts[sq_f]['before'][0][-1] - args.blank_ts // 2\n",
    "end_f = train_ts[sq_f]['after'][1][0] + args.blank_ts // 2\n",
    "start_t = test_ts[test_no_om_indcs[sq_t]]['before'][0][-1] - args.blank_ts // 2\n",
    "end_t = test_ts[test_no_om_indcs[sq_t]]['after'][1][0] + args.blank_ts // 2\n",
    "\n",
    "Y_test = Y_test.cuda()\n",
    "\n",
    "vip_f, vip_t = model.vip_to_theta(train_responses['sigma_p'][sq_f, start_f:end_f]), model.vip_to_theta(test_responses['sigma_p'][sq_t, start_t:end_t])\n",
    "vipm_f, vipm_t = model.vip_to_theta(train_responses['sigma_p'][sq_f, start_f-1:end_f-1]),  model.vip_to_theta(test_responses['sigma_p'][sq_t, start_t-1:end_t-1])\n",
    "im_f, im_t = model.I_to_theta(Y_train)[sq_f, start_f-1:end_f-1], model.I_to_theta(Y_test)[sq_t, start_t-1:end_t-1]\n",
    "thetam_f, thetam_t = train_responses['theta_h'][sq_f, start_f-1:end_f-1], test_responses['theta_h'][sq_t, start_t-1:end_t-1]\n",
    "actheta_f, actheta_t = train_responses['theta'][sq_f, start_f:end_f], test_responses['theta'][sq_t, start_t:end_t]\n",
    "\n",
    "if sq_avg:\n",
    "    for i, fts in enumerate(train_ts):\n",
    "\n",
    "        if i == sq_f:\n",
    "            continue\n",
    "\n",
    "        start_f = fts['before'][0][-1] - args.blank_ts // 2\n",
    "        end_f = fts['after'][1][0] + args.blank_ts // 2\n",
    "\n",
    "        vip_f += model.vip_to_theta(train_responses['sigma_p'][i, start_f:end_f])\n",
    "        vipm_f += model.vip_to_theta(train_responses['sigma_p'][i, start_f-1:end_f-1])\n",
    "        im_f += model.I_to_theta(Y_train)[i, start_f-1:end_f-1]\n",
    "        thetam_f += train_responses['theta_h'][i, start_f-1:end_f-1]\n",
    "        actheta_f += train_responses['theta'][i, start_f:end_f]\n",
    "    \n",
    "    for j, no_om_ind in enumerate(test_no_om_indcs):\n",
    "        \n",
    "        if j == sq_t:\n",
    "            continue\n",
    "        \n",
    "        tts = test_ts[no_om_ind]\n",
    "        \n",
    "        start_t = tts['before'][0][-1] - args.blank_ts // 2\n",
    "        end_t = tts['after'][1][0] + args.blank_ts // 2\n",
    "\n",
    "        vip_t += model.vip_to_theta(test_responses['sigma_p'][no_om_ind, start_t:end_t])\n",
    "        vipm_t += model.vip_to_theta(test_responses['sigma_p'][no_om_ind, start_t-1:end_t-1])\n",
    "        im_t += model.I_to_theta(Y_test)[no_om_ind, start_t-1:end_t-1]\n",
    "        thetam_t += test_responses['theta_h'][no_om_ind, start_t-1:end_t-1]\n",
    "        actheta_t += test_responses['theta'][no_om_ind, start_t:end_t]\n",
    "        \n",
    "    vip_f, vipm_f, im_f, thetam_f, actheta_f = vip_f/len(train_ts), vipm_f/len(train_ts), im_f/len(train_ts), thetam_f/len(train_ts), actheta_f/len(train_ts)\n",
    "    vip_t, vipm_t, im_t, thetam_t, actheta_t = vip_t/len(test_no_om_indcs), vipm_t/len(test_no_om_indcs), im_t/len(test_no_om_indcs), thetam_t/len(test_no_om_indcs), actheta_t/len(test_no_om_indcs)\n",
    "    \n",
    "thetah_f = 0.5 * thetam_f + im_f - (vip_f + 0.7 * vipm_f)\n",
    "thetah_t = 0.5 * thetam_t + im_t - (vip_t + 0.7 * vipm_t)\n",
    "theta_f = torch.relu(torch.tanh(thetah_f))\n",
    "theta_t = torch.relu(torch.tanh(thetah_t))\n",
    "\n",
    "plt.plot(((vip_f + 0.7 * vipm_f)).mean(-1).detach().cpu().numpy(), 'b-', label='vip_f')\n",
    "plt.plot(((vip_t + 0.7 * vipm_t)).mean(-1).detach().cpu().numpy(), 'b--', label='vip_t')\n",
    "\n",
    "plt.plot(im_f.mean(-1).detach().cpu().numpy(), 'r-', label='im_f')\n",
    "plt.plot(im_t.mean(-1).detach().cpu().numpy(), 'r--', label='im_t')\n",
    "\n",
    "plt.plot((0.01 * thetam_f).mean(-1).detach().cpu().numpy(), 'm-', label='thetam_f')\n",
    "plt.plot((0.01 * thetam_t).mean(-1).detach().cpu().numpy(), 'm--', label='thetam_t')\n",
    "plt.legend()\n",
    "\n",
    "plt.figure()\n",
    "plt.plot(theta_f.mean(-1).detach().cpu().numpy(), 'g-', label='theta_f')\n",
    "plt.plot(theta_t.mean(-1).detach().cpu().numpy(), 'g--', label='theta_t')\n",
    "\n",
    "#plt.plot(actheta_f.mean(-1).detach().cpu().numpy(), 'k-', label='theta_f_actual')\n",
    "#plt.plot(actheta_t.mean(-1).detach().cpu().numpy(), 'k--', label='theta_t_actual')\n",
    "\n",
    "plt.legend()"
   ]
  },
  {
   "cell_type": "code",
   "execution_count": null,
   "id": "990253d3-414d-4eb6-b0be-4cc514928260",
   "metadata": {},
   "outputs": [],
   "source": [
    "im_f"
   ]
  }
 ],
 "metadata": {
  "kernelspec": {
   "display_name": "projects",
   "language": "python",
   "name": "projects"
  },
  "language_info": {
   "codemirror_mode": {
    "name": "ipython",
    "version": 3
   },
   "file_extension": ".py",
   "mimetype": "text/x-python",
   "name": "python",
   "nbconvert_exporter": "python",
   "pygments_lexer": "ipython3",
   "version": "3.9.0"
  }
 },
 "nbformat": 4,
 "nbformat_minor": 5
}
