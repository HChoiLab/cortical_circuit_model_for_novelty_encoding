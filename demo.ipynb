{
 "cells": [
  {
   "cell_type": "code",
   "execution_count": 1,
   "id": "9d10e638-15bd-42b4-a82d-ae23935535dc",
   "metadata": {},
   "outputs": [
    {
     "name": "stdout",
     "output_type": "stream",
     "text": [
      "seed = 3760\n"
     ]
    }
   ],
   "source": [
    "%matplotlib inline\n",
    "import matplotlib\n",
    "import matplotlib.pyplot as plt\n",
    "from matplotlib.ticker import FormatStrFormatter\n",
    "import scienceplots as scp\n",
    "\n",
    "import numpy as np\n",
    "import torch\n",
    "\n",
    "matplotlib.rcParams['figure.figsize'] = (20, 6)\n",
    "\n",
    "from main import main, parse_args\n",
    "from utils.plotting import plot_change_responses, plot_omission_responses, plot_sequence_response\n",
    "from utils.analysis import process_outputs, get_change_responses, get_omission_responses\n",
    "\n",
    "import os\n",
    "\n",
    "SCRATCH = \"./datasets\"\n",
    "\n",
    "ACTION = True\n",
    "\n",
    "seed = np.random.randint(1001, 9999)\n",
    "print(f\"seed = {seed}\")"
   ]
  },
  {
   "cell_type": "code",
   "execution_count": 3,
   "id": "dc709a10",
   "metadata": {},
   "outputs": [
    {
     "name": "stderr",
     "output_type": "stream",
     "text": [
      " 27%|██▋       | 68/250 [03:29<09:22,  3.09s/epoch, dprime=0.545, energy=0.136, rewards=-21.2, spatial=0.172, temporal=5.74, total=0.825, value=3.04]  "
     ]
    }
   ],
   "source": [
    "args = parse_args()\n",
    "\n",
    "if not ACTION:\n",
    "    args.perception_only = True\n",
    "    args.lambda_energy = 0.5\n",
    "    args.lambda_temporal = 1.0\n",
    "    args.lambda_reward = 0.0\n",
    "else:\n",
    "    args.perception_only = False\n",
    "    args.lambda_reward = 0.5\n",
    "    args.lambda_temporal = 1.0\n",
    "    args.lambda_energy = 10.0\n",
    "\n",
    "args.seed = seed\n",
    "args.progress_mode = 'epoch'\n",
    "args.num_epochs = 250\n",
    "args.train_path = os.path.join(SCRATCH, \"test\")\n",
    "args.test_path = os.path.join(SCRATCH, \"train\")\n",
    "args.calculate_dprime = True\n",
    "\n",
    "args.batch_size = 32\n",
    "\n",
    "model, data, output, training_progress = main(args)\n",
    "Y_train, Y_test, Y_train_om, train_ts, test_ts, train_om_ts, train_oms, test_oms = data.values()\n",
    "train_responses, train_responses_om, test_responses, test_om_indcs, train_om_indcs = output.values()"
   ]
  },
  {
   "cell_type": "code",
   "execution_count": null,
   "id": "89dc303c-8cba-4d46-8ca0-36f471468342",
   "metadata": {},
   "outputs": [],
   "source": [
    "sidx = 11\n",
    "\n",
    "fam_imgs_fig = plt.figure(figsize=(Y_train.shape[1] * 10, 10))\n",
    "\n",
    "plt.subplot(3, 1, 1)\n",
    "plt.imshow(torch.cat(list(Y_train[sidx, 2:37].reshape(-1, args.image_dim, args.image_dim)), dim=1).detach().cpu().numpy(), 'gray')\n",
    "plt.axis(\"off\")\n",
    "#plt.title(\"True\")\n",
    "\n",
    "#plt.figure(figsize=(Y_train.shape[1] * 10, 4))\n",
    "plt.subplot(3, 1, 2)\n",
    "plt.imshow(torch.cat(list(train_responses['I_hat'][sidx, 2:37].reshape(-1,  args.image_dim,  args.image_dim)), dim=1).detach().cpu().numpy(), 'gray')\n",
    "plt.axis(\"off\")\n",
    "#plt.title(\"Reconstructed\")\n",
    "\n",
    "train_predictions = model.reconstruction(train_responses['mu_p'][sidx])\n",
    "plt.subplot(3, 1, 3)\n",
    "#plt.figure(figsize=(Y_test.shape[1] * 10, 4))\n",
    "plt.imshow(torch.cat(list(train_predictions[2:37].reshape(-1,  args.image_dim,  args.image_dim)), dim=1).detach().cpu().numpy(), 'gray')\n",
    "plt.axis(\"off\")\n",
    "#plt.title(\"Predicted\")"
   ]
  },
  {
   "cell_type": "code",
   "execution_count": null,
   "id": "e58768d9-2208-4062-bc5a-bf47f609b4b4",
   "metadata": {},
   "outputs": [],
   "source": [
    "sidx = test_om_indcs[5]\n",
    "\n",
    "nov_imgs_fig = plt.figure(figsize=(Y_train.shape[1] * 10, 10))\n",
    "\n",
    "plt.subplot(3, 1, 1)\n",
    "plt.imshow(torch.cat(list(Y_test[sidx, 2:37].reshape(-1, args.image_dim, args.image_dim)), dim=1).detach().cpu().numpy(), 'gray')\n",
    "plt.axis(\"off\")\n",
    "#plt.title(\"True\")\n",
    "\n",
    "#plt.figure(figsize=(Y_train.shape[1] * 10, 4)) \n",
    "plt.subplot(3, 1, 2)\n",
    "plt.imshow(torch.cat(list(test_responses['I_hat'][sidx, 2:37].reshape(-1, args.image_dim, args.image_dim)), dim=1).detach().cpu().numpy(), 'gray')\n",
    "plt.axis(\"off\")\n",
    "#plt.title(\"Reconstructed\")\n",
    "\n",
    "test_predictions = model.reconstruction(test_responses['mu_p'][sidx])\n",
    "plt.subplot(3, 1, 3)\n",
    "#plt.figure(figsize=(Y_test.shape[1] * 10, 4))\n",
    "plt.imshow(torch.cat(list(test_predictions[2:37].reshape(-1, args.image_dim, args.image_dim)), dim=1).detach().cpu().numpy(), 'gray')\n",
    "plt.axis(\"off\")"
   ]
  },
  {
   "cell_type": "code",
   "execution_count": null,
   "id": "6a11dbb2-8a4d-4c15-bb85-05ba140f3cd5",
   "metadata": {},
   "outputs": [],
   "source": [
    "z_train, z_test = train_responses['z'], test_responses['z']\n",
    "sigmap_train, sigmap_test = train_responses['sigma_p'], test_responses['sigma_p']\n",
    "sigmaq_train, sigmaq_test = train_responses['sigma_q'], test_responses['sigma_q']\n",
    "mup_train, mup_test = train_responses['mu_p'], test_responses['mu_p']\n",
    "theta_train, theta_test = train_responses['theta'], test_responses['theta']\n",
    "h_train, h_test = train_responses['h'], test_responses['h']\n",
    "terror_train, terror_test = (train_responses['mu_p'] - train_responses['z'])**2, (test_responses['mu_p'] - test_responses['z'])**2\n",
    "\n",
    "if not model.perception_only:\n",
    "    value_train, value_test = train_responses['lick_value'], test_responses['lick_value']\n",
    "    licks_train, licks_test = train_responses['action'], test_responses['action']"
   ]
  },
  {
   "cell_type": "code",
   "execution_count": null,
   "id": "10c73619-8195-4b88-afb6-83c2e27081a4",
   "metadata": {},
   "outputs": [],
   "source": [
    "# example sequences (familiar)\n",
    "plot_sequence_response(train_responses, train_ts, seq_idx=7, perception_only=model.perception_only)"
   ]
  },
  {
   "cell_type": "code",
   "execution_count": null,
   "id": "179633a5-4d7e-44c2-816f-cc9ff5e56b00",
   "metadata": {},
   "outputs": [],
   "source": [
    "# example sequences (novel)\n",
    "plot_sequence_response(test_responses, test_ts, seq_idx=test_om_indcs[7], perception_only=model.perception_only)"
   ]
  },
  {
   "cell_type": "code",
   "execution_count": null,
   "id": "a51da12c",
   "metadata": {},
   "outputs": [],
   "source": [
    "# get omission and change responses\n",
    "change_responses, omission_responses = process_outputs(args, model, data, output, abridged=True)"
   ]
  },
  {
   "cell_type": "code",
   "execution_count": null,
   "id": "94a66aa8-88e3-4e3d-9409-27bf798c8c56",
   "metadata": {
    "tags": []
   },
   "outputs": [],
   "source": [
    "##### plot responses around image change\n",
    "\n",
    "with plt.style.context(['nature', 'notebook']):\n",
    "\n",
    "    fig3 = plt.figure(figsize=(25, 20))\n",
    "    plt.tight_layout(pad=10, h_pad=5)\n",
    "\n",
    "    for i, pop in enumerate(change_responses['familiar'].keys()):\n",
    "        ax = plt.subplot(3, 3, i+1)\n",
    "        plot_change_responses(args, ax, change_responses['familiar'][pop], \"Familiar\", \"darkorange\")\n",
    "        plot_change_responses(args, ax, change_responses['novel'][pop], \"Novel\", \"darkblue\")\n",
    "        ax.set_title(f\"{pop}\")\n",
    "        ax.legend()"
   ]
  },
  {
   "cell_type": "code",
   "execution_count": null,
   "id": "c3b98806-549a-41b4-bab7-4c550db6c6c3",
   "metadata": {},
   "outputs": [],
   "source": [
    "##### plot responses around omissions\n",
    "\n",
    "with plt.style.context(['nature', 'notebook']):\n",
    "\n",
    "    fig3 = plt.figure(figsize=(25, 20))\n",
    "    plt.tight_layout(pad=10, h_pad=5)\n",
    "\n",
    "    for i, pop in enumerate(omission_responses['familiar'].keys()):\n",
    "        ax = plt.subplot(3, 3, i+1)\n",
    "        plot_omission_responses(args, ax, omission_responses['novel'][pop], \"Novel\", trace_clr=\"darkblue\", image_clr=\"magenta\", sem=True)\n",
    "        plot_omission_responses(args, ax, omission_responses['familiar'][pop], \"Familiar\", trace_clr=\"darkorange\", image_clr=\"magenta\", sem=True)\n",
    "        _ = ax.set_title(f\"{pop}\")"
   ]
  },
  {
   "cell_type": "code",
   "execution_count": null,
   "id": "0387fde8",
   "metadata": {},
   "outputs": [],
   "source": [
    "# save\n",
    "\"\"\"\n",
    "save_dir = \"./results/perception_only\"\n",
    "torch.save({\n",
    "    \"args\": vars(args),\n",
    "    \"model\": model.state_dict(),\n",
    "    \"change_responses\": change_responses,\n",
    "    \"omission_responses\": omission_responses\n",
    "}, os.path.join(save_dir, f\"perception_only_{seed}\"))\n",
    "\"\"\""
   ]
  }
 ],
 "metadata": {
  "kernelspec": {
   "display_name": "allen",
   "language": "python",
   "name": "python3"
  },
  "language_info": {
   "codemirror_mode": {
    "name": "ipython",
    "version": 3
   },
   "file_extension": ".py",
   "mimetype": "text/x-python",
   "name": "python",
   "nbconvert_exporter": "python",
   "pygments_lexer": "ipython3",
   "version": "3.9.13"
  }
 },
 "nbformat": 4,
 "nbformat_minor": 5
}
