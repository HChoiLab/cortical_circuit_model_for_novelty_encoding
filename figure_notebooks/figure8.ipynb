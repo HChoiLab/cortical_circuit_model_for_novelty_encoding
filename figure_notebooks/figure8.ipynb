{
 "cells": [
  {
   "cell_type": "code",
   "execution_count": null,
   "metadata": {},
   "outputs": [],
   "source": [
    "%matplotlib inline\n",
    "import matplotlib\n",
    "import matplotlib.pyplot as plt\n",
    "from matplotlib.ticker import FormatStrFormatter\n",
    "import scienceplots as scp\n",
    "import seaborn as sns\n",
    "\n",
    "import numpy as np\n",
    "import torch\n",
    "\n",
    "matplotlib.rcParams['figure.figsize'] = (20, 6)\n",
    "\n",
    "import sys\n",
    "sys.path.append(\"..\")\n",
    "\n",
    "from argparse import Namespace\n",
    "from main import main, parse_args\n",
    "from utils.plotting import *\n",
    "from utils.analysis import process_outputs, get_change_responses, get_omission_responses\n",
    "\n",
    "from utils.data import load_results_files\n",
    "\n",
    "import warnings\n",
    "warnings.filterwarnings('ignore')\n",
    "\n",
    "import os"
   ]
  },
  {
   "cell_type": "code",
   "execution_count": null,
   "metadata": {},
   "outputs": [],
   "source": [
    "ad_files = os.listdir(f\"../results/adaptation_baseline\")\n",
    "\n",
    "for f in ad_files:\n",
    "\n",
    "    file_path = os.path.join(f\"../results/adaptation_baseline/{f}\")\n",
    "    data = torch.load(file_path, map_location='cpu')\n",
    "\n",
    "    change_responses = data['change_responses']\n",
    "    familiar_resp = change_responses['familiar']\n",
    "    novel_resp = change_responses['novel']\n",
    "\n",
    "    familiar_means = {k: torch.zeros(v.shape[0], v.shape[-1], 2) for (k, v) in familiar_resp.items()}\n",
    "    novel_means = {k: torch.zeros(v.shape[0], v.shape[-1], 2) for (k, v) in novel_resp.items()}\n",
    "\n",
    "    for k in change_responses['familiar'].keys():\n",
    "        pre_start = 5\n",
    "        change_start = 20\n",
    "        familiar_means[k][:, :, 0] = change_responses[\"familiar\"][k][:, pre_start:pre_start+10].mean(1)\n",
    "        familiar_means[k][:, :, 1] = change_responses[\"familiar\"][k][:, change_start:change_start+10].mean(1)\n",
    "        novel_means[k][:, :, 0] = change_responses[\"novel\"][k][:, pre_start:pre_start+10].mean(1)\n",
    "        novel_means[k][:, :, 1] = change_responses[\"novel\"][k][:, change_start:change_start+10].mean(1)\n",
    "    \n",
    "    change_responses[\"familiar_means\"] = familiar_means\n",
    "    change_responses[\"novel_means\"] = novel_means\n",
    "\n",
    "    data['change_responses'] = change_responses\n",
    "\n",
    "    torch.save(data, file_path)"
   ]
  },
  {
   "cell_type": "code",
   "execution_count": null,
   "metadata": {},
   "outputs": [],
   "source": [
    "# load the results with hebbian learning\n",
    "\n",
    "with_args, with_change, with_omission, with_progress = load_results_files(f\"../results/adaptation_baseline\", \"with\")\n",
    "with_args = Namespace(**with_args)"
   ]
  },
  {
   "cell_type": "code",
   "execution_count": null,
   "metadata": {},
   "outputs": [],
   "source": [
    "# load the results without hebbian learning\n",
    "\n",
    "no_args, no_change, no_omission, with_progress = load_results_files(f\"../results/adaptation_baseline\", \"no\")\n",
    "no_args = Namespace(**no_args)"
   ]
  },
  {
   "cell_type": "markdown",
   "metadata": {},
   "source": [
    "#### Hebbian: change and omission responses"
   ]
  },
  {
   "cell_type": "code",
   "execution_count": null,
   "metadata": {},
   "outputs": [],
   "source": [
    "# Change Responses\n",
    "\n",
    "with plt.style.context(['nature', 'notebook']):\n",
    "\n",
    "    with_change_fig = plt.figure(figsize=(15, 10))\n",
    "    plt.tight_layout(pad=10, h_pad=5)\n",
    "\n",
    "    for i, pop in enumerate(with_change['familiar'].keys()):\n",
    "        ax = plt.subplot(3, 3, i+1)\n",
    "        _ = plot_trial_responses(with_args, ax, with_change['familiar'][pop], with_change['novel'][pop], normalize=False)\n",
    "        _ = ax.set_title(f\"{pop}\")\n",
    "        _ = ax.legend()"
   ]
  },
  {
   "cell_type": "code",
   "execution_count": null,
   "metadata": {},
   "outputs": [],
   "source": [
    "##### plot responses around omissions\n",
    "\n",
    "with plt.style.context(['nature', 'notebook']):\n",
    "\n",
    "    with_omission_fig = plt.figure(figsize=(15, 10))\n",
    "    #plt.tight_layout(pad=19, h_pad=15)\n",
    "\n",
    "    for i, pop in enumerate(with_omission['familiar'].keys()):\n",
    "        ax = plt.subplot(4, 3, i+1)\n",
    "        plot_trial_responses(with_args, ax, with_omission['familiar'][pop], with_omission['novel'][pop], trial_mode='omission', normalize=False)\n",
    "        _ = ax.set_title(f\"{pop}\")"
   ]
  },
  {
   "cell_type": "code",
   "execution_count": null,
   "metadata": {},
   "outputs": [],
   "source": [
    "with_change_fig.savefig(f\"../figures/figure_7/with_hebb_change_responses.pdf\", dpi=600, bbox_inches=\"tight\", pad_inches=0)\n",
    "with_omission_fig.savefig(f\"../figures/figure_7/with_hebb_omission_responses.pdf\", dpi=600, bbox_inches=\"tight\", pad_inches=0)"
   ]
  },
  {
   "cell_type": "markdown",
   "metadata": {},
   "source": [
    "#### No Hebbian: change and omission responses"
   ]
  },
  {
   "cell_type": "code",
   "execution_count": null,
   "metadata": {},
   "outputs": [],
   "source": [
    "# Change Responses\n",
    "\n",
    "with plt.style.context(['nature', 'notebook']):\n",
    "\n",
    "    no_change_fig = plt.figure(figsize=(15, 10))\n",
    "    plt.tight_layout(pad=10, h_pad=5)\n",
    "\n",
    "    for i, pop in enumerate(no_change['familiar'].keys()):\n",
    "        ax = plt.subplot(3, 3, i+1)\n",
    "        _ = plot_trial_responses(no_args, ax, no_change['familiar'][pop], no_change['novel'][pop], normalize=False)\n",
    "        _ = ax.set_title(f\"{pop}\")\n",
    "        _ = ax.legend()"
   ]
  },
  {
   "cell_type": "code",
   "execution_count": null,
   "metadata": {},
   "outputs": [],
   "source": [
    "##### plot responses around omissions\n",
    "\n",
    "with plt.style.context(['nature', 'notebook']):\n",
    "\n",
    "    no_omission_fig = plt.figure(figsize=(15, 10))\n",
    "    #plt.tight_layout(pad=19, h_pad=15)\n",
    "\n",
    "    for i, pop in enumerate(no_omission['familiar'].keys()):\n",
    "        ax = plt.subplot(4, 3, i+1)\n",
    "        plot_trial_responses(no_args, ax, no_omission['familiar'][pop], no_omission['novel'][pop], trial_mode='omission', normalize=False)\n",
    "        _ = ax.set_title(f\"{pop}\")"
   ]
  },
  {
   "cell_type": "code",
   "execution_count": null,
   "metadata": {},
   "outputs": [],
   "source": [
    "no_change_fig.savefig(f\"../figures/figure_7/no_hebb_change_responses.pdf\", dpi=600, bbox_inches=\"tight\", pad_inches=0)\n",
    "no_omission_fig.savefig(f\"../figures/figure_7/no_hebb_omission_responses.pdf\", dpi=600, bbox_inches=\"tight\", pad_inches=0)"
   ]
  },
  {
   "cell_type": "markdown",
   "metadata": {},
   "source": [
    "#### Confidence plots"
   ]
  },
  {
   "cell_type": "code",
   "execution_count": null,
   "metadata": {},
   "outputs": [],
   "source": [
    "conf_cond = 0"
   ]
  },
  {
   "cell_type": "markdown",
   "metadata": {},
   "source": [
    "##### Excitatory"
   ]
  },
  {
   "cell_type": "code",
   "execution_count": null,
   "metadata": {},
   "outputs": [],
   "source": [
    "with plt.style.context(['nature', 'notebook']):\n",
    "\n",
    "    fam_z = with_change['familiar_means']['E'] if conf_cond == 0 else no_change['familiar_means']['E']\n",
    "    nov_z = with_change['novel_means']['E'] if conf_cond == 0 else no_change['novel_means']['E']\n",
    "    \n",
    "    exc_conf_fig, exc_conf = plt.subplots(1, 2, figsize=(7, 5), sharey=True)\n",
    "    plt.tight_layout(pad=8, h_pad=5)\n",
    "\n",
    "    # pre-change\n",
    "    fam_pre = fam_z[..., 0].detach().mean(0)\n",
    "    nov_pre = nov_z[..., 0].detach().mean(0)\n",
    "    plot_confidence_intervals(exc_conf[0], fam_pre.numpy(), nov_pre.numpy())\n",
    "    exc_conf[0].set_ylim([0.007, .025])\n",
    "\n",
    "    # change\n",
    "    fam_change = fam_z[..., 1].detach().mean(0)\n",
    "    nov_change = nov_z[..., 1].detach().mean(0)\n",
    "    plot_confidence_intervals(exc_conf[1], fam_change.numpy(), nov_change.numpy())\n",
    "    exc_conf[1].set_ylim([0.007, .025])\n",
    "    exc_conf[1].set_ylabel('')"
   ]
  },
  {
   "cell_type": "markdown",
   "metadata": {},
   "source": [
    "##### SST"
   ]
  },
  {
   "cell_type": "code",
   "execution_count": null,
   "metadata": {},
   "outputs": [],
   "source": [
    "with plt.style.context(['nature', 'notebook']):\n",
    "\n",
    "    fam_z = with_change['familiar_means']['SST'] if conf_cond == 0 else no_change['familiar_means']['SST']\n",
    "    nov_z = with_change['novel_means']['SST'] if conf_cond == 0 else no_change['novel_means']['SST']\n",
    "    \n",
    "    sst_conf_fig, sst_conf = plt.subplots(1, 2, figsize=(7, 5), sharey=True)\n",
    "    plt.tight_layout(pad=8, h_pad=5)\n",
    "\n",
    "    # pre-change\n",
    "    fam_pre = fam_z[..., 0].detach().mean(0)\n",
    "    nov_pre = nov_z[..., 0].detach().mean(0)\n",
    "    plot_confidence_intervals(sst_conf[0], fam_pre.numpy(), nov_pre.numpy())\n",
    "    sst_conf[0].set_ylim([0.006, .02])\n",
    "\n",
    "    # change\n",
    "    fam_change = fam_z[..., 1].detach().mean(0)\n",
    "    nov_change = nov_z[..., 1].detach().mean(0)\n",
    "    plot_confidence_intervals(sst_conf[1], fam_change.numpy(), nov_change.numpy())\n",
    "    sst_conf[1].set_ylim([0.006, .02])\n",
    "    sst_conf[1].set_ylabel('')"
   ]
  },
  {
   "cell_type": "markdown",
   "metadata": {},
   "source": [
    "##### VIP"
   ]
  },
  {
   "cell_type": "code",
   "execution_count": null,
   "metadata": {},
   "outputs": [],
   "source": [
    "with plt.style.context(['nature', 'notebook']):\n",
    "\n",
    "    fam_z = with_change['familiar_means']['VIP'] if conf_cond == 0 else no_change['familiar_means']['VIP']\n",
    "    nov_z = with_change['novel_means']['VIP'] if conf_cond == 0 else no_change['novel_means']['VIP']\n",
    "    \n",
    "    vip_conf_fig, vip_conf = plt.subplots(1, 2, figsize=(7, 5), sharey=True)\n",
    "    plt.tight_layout(pad=8, h_pad=5)\n",
    "\n",
    "    # pre-change\n",
    "    fam_pre = fam_z[..., 0].detach().mean(0)\n",
    "    nov_pre = nov_z[..., 0].detach().mean(0)\n",
    "    plot_confidence_intervals(vip_conf[0], fam_pre.numpy(), nov_pre.numpy())\n",
    "    vip_conf[0].set_ylim([0.0, .02])\n",
    "\n",
    "    # change\n",
    "    fam_change = fam_z[..., 1].detach().mean(0)\n",
    "    nov_change = nov_z[..., 1].detach().mean(0)\n",
    "    plot_confidence_intervals(vip_conf[1], fam_change.numpy(), nov_change.numpy())\n",
    "    vip_conf[1].set_ylim([0.0, .02])\n",
    "    vip_conf[1].set_ylabel('')"
   ]
  },
  {
   "cell_type": "code",
   "execution_count": null,
   "metadata": {},
   "outputs": [],
   "source": [
    "cond_txt = 'with_hebb' if conf_cond == 0 else 'no_hebb'\n",
    "#exc_conf_fig.savefig(f\"../figures/figure_7/{cond_txt}_exc_conf.pdf\", dpi=600, bbox_inches=\"tight\", pad_inches=0)\n",
    "sst_conf_fig.savefig(f\"../figures/figure_7/{cond_txt}_sst_conf.pdf\", dpi=600, bbox_inches=\"tight\", pad_inches=0)\n",
    "#vip_conf_fig.savefig(f\"../figures/figure_7/{cond_txt}_vip_conf.pdf\", dpi=600, bbox_inches=\"tight\", pad_inches=0)"
   ]
  }
 ],
 "metadata": {
  "kernelspec": {
   "display_name": "projects",
   "language": "python",
   "name": "projects"
  },
  "language_info": {
   "codemirror_mode": {
    "name": "ipython",
    "version": 3
   },
   "file_extension": ".py",
   "mimetype": "text/x-python",
   "name": "python",
   "nbconvert_exporter": "python",
   "pygments_lexer": "ipython3",
   "version": "3.9.0"
  }
 },
 "nbformat": 4,
 "nbformat_minor": 2
}
